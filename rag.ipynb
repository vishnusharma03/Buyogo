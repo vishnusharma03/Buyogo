{
 "cells": [
  {
   "cell_type": "code",
   "execution_count": 16,
   "metadata": {},
   "outputs": [],
   "source": [
    "import os\n",
    "from dotenv import load_dotenv\n",
    "import numpy as np\n",
    "from tqdm import tqdm\n",
    "import pandas as pd\n",
    "import sqlite3 as sql\n",
    "# from transformers import pipeline\n",
    "from google import genai\n",
    "import chromadb as cdb\n",
    "import chromadb.utils.embedding_functions as embedding_functions"
   ]
  },
  {
   "cell_type": "code",
   "execution_count": 3,
   "metadata": {},
   "outputs": [],
   "source": [
    "load_dotenv()\n",
    "cohere_api_key = os.getenv(\"COHERE_API_KEY\")\n",
    "gemini_api_key = os.getenv(\"GEMINI_API_KEY\")\n",
    "jina_api_key = os.getenv(\"JINA_API_KEY\")"
   ]
  },
  {
   "cell_type": "code",
   "execution_count": 4,
   "metadata": {},
   "outputs": [
    {
     "data": {
      "text/html": [
       "<div>\n",
       "<style scoped>\n",
       "    .dataframe tbody tr th:only-of-type {\n",
       "        vertical-align: middle;\n",
       "    }\n",
       "\n",
       "    .dataframe tbody tr th {\n",
       "        vertical-align: top;\n",
       "    }\n",
       "\n",
       "    .dataframe thead th {\n",
       "        text-align: right;\n",
       "    }\n",
       "</style>\n",
       "<table border=\"1\" class=\"dataframe\">\n",
       "  <thead>\n",
       "    <tr style=\"text-align: right;\">\n",
       "      <th></th>\n",
       "      <th>hotel</th>\n",
       "      <th>is_canceled</th>\n",
       "      <th>lead_time</th>\n",
       "      <th>arrival_date_year</th>\n",
       "      <th>arrival_date_month</th>\n",
       "      <th>arrival_date_week_number</th>\n",
       "      <th>arrival_date_day_of_month</th>\n",
       "      <th>stays_in_weekend_nights</th>\n",
       "      <th>stays_in_week_nights</th>\n",
       "      <th>adults</th>\n",
       "      <th>...</th>\n",
       "      <th>deposit_type</th>\n",
       "      <th>agent</th>\n",
       "      <th>company</th>\n",
       "      <th>days_in_waiting_list</th>\n",
       "      <th>customer_type</th>\n",
       "      <th>adr</th>\n",
       "      <th>required_car_parking_spaces</th>\n",
       "      <th>total_of_special_requests</th>\n",
       "      <th>reservation_status</th>\n",
       "      <th>reservation_status_date</th>\n",
       "    </tr>\n",
       "  </thead>\n",
       "  <tbody>\n",
       "    <tr>\n",
       "      <th>0</th>\n",
       "      <td>Resort Hotel</td>\n",
       "      <td>0</td>\n",
       "      <td>342</td>\n",
       "      <td>2015</td>\n",
       "      <td>July</td>\n",
       "      <td>27</td>\n",
       "      <td>1</td>\n",
       "      <td>0</td>\n",
       "      <td>0</td>\n",
       "      <td>2</td>\n",
       "      <td>...</td>\n",
       "      <td>No Deposit</td>\n",
       "      <td>NaN</td>\n",
       "      <td>NaN</td>\n",
       "      <td>0</td>\n",
       "      <td>Transient</td>\n",
       "      <td>0.0</td>\n",
       "      <td>0</td>\n",
       "      <td>0</td>\n",
       "      <td>Check-Out</td>\n",
       "      <td>2015-07-01</td>\n",
       "    </tr>\n",
       "    <tr>\n",
       "      <th>1</th>\n",
       "      <td>Resort Hotel</td>\n",
       "      <td>0</td>\n",
       "      <td>737</td>\n",
       "      <td>2015</td>\n",
       "      <td>July</td>\n",
       "      <td>27</td>\n",
       "      <td>1</td>\n",
       "      <td>0</td>\n",
       "      <td>0</td>\n",
       "      <td>2</td>\n",
       "      <td>...</td>\n",
       "      <td>No Deposit</td>\n",
       "      <td>NaN</td>\n",
       "      <td>NaN</td>\n",
       "      <td>0</td>\n",
       "      <td>Transient</td>\n",
       "      <td>0.0</td>\n",
       "      <td>0</td>\n",
       "      <td>0</td>\n",
       "      <td>Check-Out</td>\n",
       "      <td>2015-07-01</td>\n",
       "    </tr>\n",
       "    <tr>\n",
       "      <th>2</th>\n",
       "      <td>Resort Hotel</td>\n",
       "      <td>0</td>\n",
       "      <td>7</td>\n",
       "      <td>2015</td>\n",
       "      <td>July</td>\n",
       "      <td>27</td>\n",
       "      <td>1</td>\n",
       "      <td>0</td>\n",
       "      <td>1</td>\n",
       "      <td>1</td>\n",
       "      <td>...</td>\n",
       "      <td>No Deposit</td>\n",
       "      <td>NaN</td>\n",
       "      <td>NaN</td>\n",
       "      <td>0</td>\n",
       "      <td>Transient</td>\n",
       "      <td>75.0</td>\n",
       "      <td>0</td>\n",
       "      <td>0</td>\n",
       "      <td>Check-Out</td>\n",
       "      <td>2015-07-02</td>\n",
       "    </tr>\n",
       "    <tr>\n",
       "      <th>3</th>\n",
       "      <td>Resort Hotel</td>\n",
       "      <td>0</td>\n",
       "      <td>13</td>\n",
       "      <td>2015</td>\n",
       "      <td>July</td>\n",
       "      <td>27</td>\n",
       "      <td>1</td>\n",
       "      <td>0</td>\n",
       "      <td>1</td>\n",
       "      <td>1</td>\n",
       "      <td>...</td>\n",
       "      <td>No Deposit</td>\n",
       "      <td>304.0</td>\n",
       "      <td>NaN</td>\n",
       "      <td>0</td>\n",
       "      <td>Transient</td>\n",
       "      <td>75.0</td>\n",
       "      <td>0</td>\n",
       "      <td>0</td>\n",
       "      <td>Check-Out</td>\n",
       "      <td>2015-07-02</td>\n",
       "    </tr>\n",
       "    <tr>\n",
       "      <th>4</th>\n",
       "      <td>Resort Hotel</td>\n",
       "      <td>0</td>\n",
       "      <td>14</td>\n",
       "      <td>2015</td>\n",
       "      <td>July</td>\n",
       "      <td>27</td>\n",
       "      <td>1</td>\n",
       "      <td>0</td>\n",
       "      <td>2</td>\n",
       "      <td>2</td>\n",
       "      <td>...</td>\n",
       "      <td>No Deposit</td>\n",
       "      <td>240.0</td>\n",
       "      <td>NaN</td>\n",
       "      <td>0</td>\n",
       "      <td>Transient</td>\n",
       "      <td>98.0</td>\n",
       "      <td>0</td>\n",
       "      <td>1</td>\n",
       "      <td>Check-Out</td>\n",
       "      <td>2015-07-03</td>\n",
       "    </tr>\n",
       "  </tbody>\n",
       "</table>\n",
       "<p>5 rows × 32 columns</p>\n",
       "</div>"
      ],
      "text/plain": [
       "          hotel  is_canceled  lead_time  arrival_date_year arrival_date_month  \\\n",
       "0  Resort Hotel            0        342               2015               July   \n",
       "1  Resort Hotel            0        737               2015               July   \n",
       "2  Resort Hotel            0          7               2015               July   \n",
       "3  Resort Hotel            0         13               2015               July   \n",
       "4  Resort Hotel            0         14               2015               July   \n",
       "\n",
       "   arrival_date_week_number  arrival_date_day_of_month  \\\n",
       "0                        27                          1   \n",
       "1                        27                          1   \n",
       "2                        27                          1   \n",
       "3                        27                          1   \n",
       "4                        27                          1   \n",
       "\n",
       "   stays_in_weekend_nights  stays_in_week_nights  adults  ...  deposit_type  \\\n",
       "0                        0                     0       2  ...    No Deposit   \n",
       "1                        0                     0       2  ...    No Deposit   \n",
       "2                        0                     1       1  ...    No Deposit   \n",
       "3                        0                     1       1  ...    No Deposit   \n",
       "4                        0                     2       2  ...    No Deposit   \n",
       "\n",
       "   agent company days_in_waiting_list customer_type   adr  \\\n",
       "0    NaN     NaN                    0     Transient   0.0   \n",
       "1    NaN     NaN                    0     Transient   0.0   \n",
       "2    NaN     NaN                    0     Transient  75.0   \n",
       "3  304.0     NaN                    0     Transient  75.0   \n",
       "4  240.0     NaN                    0     Transient  98.0   \n",
       "\n",
       "   required_car_parking_spaces  total_of_special_requests  reservation_status  \\\n",
       "0                            0                          0           Check-Out   \n",
       "1                            0                          0           Check-Out   \n",
       "2                            0                          0           Check-Out   \n",
       "3                            0                          0           Check-Out   \n",
       "4                            0                          1           Check-Out   \n",
       "\n",
       "  reservation_status_date  \n",
       "0              2015-07-01  \n",
       "1              2015-07-01  \n",
       "2              2015-07-02  \n",
       "3              2015-07-02  \n",
       "4              2015-07-03  \n",
       "\n",
       "[5 rows x 32 columns]"
      ]
     },
     "execution_count": 4,
     "metadata": {},
     "output_type": "execute_result"
    }
   ],
   "source": [
    "data_path = \"data/hotel_bookings.csv\"\n",
    "db_df = pd.read_csv(data_path)\n",
    "db_df.head()"
   ]
  },
  {
   "cell_type": "code",
   "execution_count": 5,
   "metadata": {},
   "outputs": [],
   "source": [
    "database = sql.connect(\"./Database/hotel_database.db\")"
   ]
  },
  {
   "cell_type": "code",
   "execution_count": 6,
   "metadata": {},
   "outputs": [
    {
     "data": {
      "text/plain": [
       "119390"
      ]
     },
     "execution_count": 6,
     "metadata": {},
     "output_type": "execute_result"
    }
   ],
   "source": [
    "db_df.to_sql('booking', database, if_exists='replace', index=True)"
   ]
  },
  {
   "cell_type": "code",
   "execution_count": 7,
   "metadata": {},
   "outputs": [],
   "source": [
    "df = pd.read_sql_query(\"SELECT * FROM booking\", database)"
   ]
  },
  {
   "cell_type": "code",
   "execution_count": 8,
   "metadata": {},
   "outputs": [
    {
     "name": "stdout",
     "output_type": "stream",
     "text": [
      "<class 'pandas.core.frame.DataFrame'>\n",
      "RangeIndex: 119390 entries, 0 to 119389\n",
      "Data columns (total 33 columns):\n",
      " #   Column                          Non-Null Count   Dtype  \n",
      "---  ------                          --------------   -----  \n",
      " 0   index                           119390 non-null  int64  \n",
      " 1   hotel                           119390 non-null  object \n",
      " 2   is_canceled                     119390 non-null  int64  \n",
      " 3   lead_time                       119390 non-null  int64  \n",
      " 4   arrival_date_year               119390 non-null  int64  \n",
      " 5   arrival_date_month              119390 non-null  object \n",
      " 6   arrival_date_week_number        119390 non-null  int64  \n",
      " 7   arrival_date_day_of_month       119390 non-null  int64  \n",
      " 8   stays_in_weekend_nights         119390 non-null  int64  \n",
      " 9   stays_in_week_nights            119390 non-null  int64  \n",
      " 10  adults                          119390 non-null  int64  \n",
      " 11  children                        119386 non-null  float64\n",
      " 12  babies                          119390 non-null  int64  \n",
      " 13  meal                            119390 non-null  object \n",
      " 14  country                         118902 non-null  object \n",
      " 15  market_segment                  119390 non-null  object \n",
      " 16  distribution_channel            119390 non-null  object \n",
      " 17  is_repeated_guest               119390 non-null  int64  \n",
      " 18  previous_cancellations          119390 non-null  int64  \n",
      " 19  previous_bookings_not_canceled  119390 non-null  int64  \n",
      " 20  reserved_room_type              119390 non-null  object \n",
      " 21  assigned_room_type              119390 non-null  object \n",
      " 22  booking_changes                 119390 non-null  int64  \n",
      " 23  deposit_type                    119390 non-null  object \n",
      " 24  agent                           103050 non-null  float64\n",
      " 25  company                         6797 non-null    float64\n",
      " 26  days_in_waiting_list            119390 non-null  int64  \n",
      " 27  customer_type                   119390 non-null  object \n",
      " 28  adr                             119390 non-null  float64\n",
      " 29  required_car_parking_spaces     119390 non-null  int64  \n",
      " 30  total_of_special_requests       119390 non-null  int64  \n",
      " 31  reservation_status              119390 non-null  object \n",
      " 32  reservation_status_date         119390 non-null  object \n",
      "dtypes: float64(4), int64(17), object(12)\n",
      "memory usage: 30.1+ MB\n"
     ]
    }
   ],
   "source": [
    "df.info()"
   ]
  },
  {
   "cell_type": "code",
   "execution_count": 9,
   "metadata": {},
   "outputs": [],
   "source": [
    "# df[numerical_cols].astype('str')\n",
    "# df[date_cols].astype('str')\n",
    "\n",
    "df['reservation_status_date'] = pd.to_datetime(df['reservation_status_date'])\n",
    "check = df['reservation_status_date'].dt.strftime('%Y-%m-%d')\n",
    "\n",
    "df['reservation_status_date_year'] = df['reservation_status_date'].dt.year\n",
    "df['reservation_status_date_month'] = df['reservation_status_date'].dt.month_name()\n",
    "df['reservation_status_date_day'] = df['reservation_status_date'].dt.day\n"
   ]
  },
  {
   "cell_type": "code",
   "execution_count": 10,
   "metadata": {},
   "outputs": [],
   "source": [
    "df.drop(columns=['reservation_status_date'], inplace=True)"
   ]
  },
  {
   "cell_type": "code",
   "execution_count": 11,
   "metadata": {},
   "outputs": [
    {
     "name": "stdout",
     "output_type": "stream",
     "text": [
      "<class 'pandas.core.frame.DataFrame'>\n",
      "RangeIndex: 119390 entries, 0 to 119389\n",
      "Data columns (total 35 columns):\n",
      " #   Column                          Non-Null Count   Dtype  \n",
      "---  ------                          --------------   -----  \n",
      " 0   index                           119390 non-null  int64  \n",
      " 1   hotel                           119390 non-null  object \n",
      " 2   is_canceled                     119390 non-null  int64  \n",
      " 3   lead_time                       119390 non-null  int64  \n",
      " 4   arrival_date_year               119390 non-null  int64  \n",
      " 5   arrival_date_month              119390 non-null  object \n",
      " 6   arrival_date_week_number        119390 non-null  int64  \n",
      " 7   arrival_date_day_of_month       119390 non-null  int64  \n",
      " 8   stays_in_weekend_nights         119390 non-null  int64  \n",
      " 9   stays_in_week_nights            119390 non-null  int64  \n",
      " 10  adults                          119390 non-null  int64  \n",
      " 11  children                        119386 non-null  float64\n",
      " 12  babies                          119390 non-null  int64  \n",
      " 13  meal                            119390 non-null  object \n",
      " 14  country                         118902 non-null  object \n",
      " 15  market_segment                  119390 non-null  object \n",
      " 16  distribution_channel            119390 non-null  object \n",
      " 17  is_repeated_guest               119390 non-null  int64  \n",
      " 18  previous_cancellations          119390 non-null  int64  \n",
      " 19  previous_bookings_not_canceled  119390 non-null  int64  \n",
      " 20  reserved_room_type              119390 non-null  object \n",
      " 21  assigned_room_type              119390 non-null  object \n",
      " 22  booking_changes                 119390 non-null  int64  \n",
      " 23  deposit_type                    119390 non-null  object \n",
      " 24  agent                           103050 non-null  float64\n",
      " 25  company                         6797 non-null    float64\n",
      " 26  days_in_waiting_list            119390 non-null  int64  \n",
      " 27  customer_type                   119390 non-null  object \n",
      " 28  adr                             119390 non-null  float64\n",
      " 29  required_car_parking_spaces     119390 non-null  int64  \n",
      " 30  total_of_special_requests       119390 non-null  int64  \n",
      " 31  reservation_status              119390 non-null  object \n",
      " 32  reservation_status_date_year    119390 non-null  int32  \n",
      " 33  reservation_status_date_month   119390 non-null  object \n",
      " 34  reservation_status_date_day     119390 non-null  int32  \n",
      "dtypes: float64(4), int32(2), int64(17), object(12)\n",
      "memory usage: 31.0+ MB\n"
     ]
    }
   ],
   "source": [
    "df.info()"
   ]
  },
  {
   "cell_type": "code",
   "execution_count": 12,
   "metadata": {},
   "outputs": [
    {
     "name": "stderr",
     "output_type": "stream",
     "text": [
      "/tmp/ipykernel_50653/2798273569.py:1: FutureWarning: Setting an item of incompatible dtype is deprecated and will raise an error in a future version of pandas. Value 'missing' has dtype incompatible with float64, please explicitly cast to a compatible dtype first.\n",
      "  df.fillna(\"missing\", inplace=True)\n"
     ]
    }
   ],
   "source": [
    "df.fillna(\"missing\", inplace=True)"
   ]
  },
  {
   "cell_type": "code",
   "execution_count": 13,
   "metadata": {},
   "outputs": [
    {
     "name": "stdout",
     "output_type": "stream",
     "text": [
      "Hotel: Resort Hotel\n",
      "        is_canceled: 0\n",
      "        lead_time: 342\n",
      "        arrival_date_year: 2015\n",
      "        arrival_date_month: July\n",
      "        arrival_date_week_number: 27\n",
      "        arrival_date_day_of_month: 1\n",
      "        stays_in_weekend_nights: 0\n",
      "        stays_in_week_nights: 0\n",
      "        adults: 2\n",
      "        children: 0.0\n",
      "        babies: 0\n",
      "        meal: BB\n",
      "        country: PRT\n",
      "        market_segment: Direct\n",
      "        distribution_channel: Direct\n",
      "        is_repeated_guest: 0\n",
      "        previous_cancellations: 0\n",
      "        previous_bookings_not_canceled: 0\n",
      "        reserved_room_type: C\n",
      "        assigned_room_type: C\n",
      "        booking_changes: 3\n",
      "        deposit_type: No Deposit\n",
      "        agent: missing\n",
      "        company: missing\n",
      "        days_in_waiting_list: 0\n",
      "        customer_type: Transient\n",
      "        adr: 0.0\n",
      "        required_car_parking_spaces: 0\n",
      "        total_of_special_requests: 0\n",
      "        reservation_status: Check-Out\n",
      "        reservation_status_date_year: 2015\n",
      "        reservation_status_date_month: July\n",
      "        reservation_status_date_day: 1\n",
      "        Combined arrival_date: 2015-July-1\n",
      "        Combined reservation_status_date: 2015-July-1\n",
      "{'booking_id': '0', 'hotel': 'Resort Hotel', 'is_canceled': 0, 'lead_time': 342, 'arrival_date_year': 2015, 'arrival_date_month': 'July', 'arrival_date_week_number': 27, 'arrival_date_day_of_month': 1, 'stays_in_weekend_nights': 0, 'stays_in_week_nights': 0, 'adults': 2, 'children': 0.0, 'babies': 0, 'meal': 'BB', 'country': 'PRT', 'market_segment': 'Direct', 'distribution_channel': 'Direct', 'is_repeated_guest': 0, 'previous_cancellations': 0, 'previous_bookings_not_canceled': 0, 'reserved_room_type': 'C', 'assigned_room_type': 'C', 'booking_changes': 3, 'deposit_type': 'No Deposit', 'agent': 'missing', 'company': 'missing', 'days_in_waiting_list': 0, 'customer_type': 'Transient', 'adr': 0.0, 'required_car_parking_spaces': 0, 'total_of_special_requests': 0, 'reservation_status': 'Check-Out', 'reservation_status_date_year': 2015, 'reservation_status_date_month': 'July', 'reservation_status_date_day': 1, 'arrival_date': '2015-July-1', 'reservation_status_date': '2015-July-1', 'total_nights': 0}\n"
     ]
    }
   ],
   "source": [
    "\n",
    "# Helper function to return the value or \"missing\" if the value is NaN.\n",
    "def safe_value(val):\n",
    "    return val if pd.notnull(val) else \"missing\"\n",
    "\n",
    "# Prepare empty lists to store the documents and metadatas.\n",
    "documents = []\n",
    "metadatas = []\n",
    "\n",
    "# Iterate over each row in the DataFrame.\n",
    "for idx, row in df.iterrows():\n",
    "    # For arrival and reservation dates, check each component.\n",
    "    arrival_year = safe_value(row['arrival_date_year'])\n",
    "    arrival_month = safe_value(row['arrival_date_month'])\n",
    "    arrival_day = safe_value(row['arrival_date_day_of_month'])\n",
    "    if \"missing\" in (arrival_year, arrival_month, arrival_day):\n",
    "        arrival_date_str = \"missing\"\n",
    "    else:\n",
    "        arrival_date_str = f\"{arrival_year}-{arrival_month}-{arrival_day}\"\n",
    "    \n",
    "    res_year = safe_value(row['reservation_status_date_year'])\n",
    "    res_month = safe_value(row['reservation_status_date_month'])\n",
    "    res_day = safe_value(row['reservation_status_date_day'])\n",
    "    if \"missing\" in (res_year, res_month, res_day):\n",
    "        reservation_status_date_str = \"missing\"\n",
    "    else:\n",
    "        reservation_status_date_str = f\"{res_year}-{res_month}-{res_day}\"\n",
    "    \n",
    "    # Compute total nights, ensuring that if either value is missing, we mark as missing.\n",
    "    stays_weekend = safe_value(row['stays_in_weekend_nights'])\n",
    "    stays_week = safe_value(row['stays_in_week_nights'])\n",
    "    if stays_weekend == \"missing\" or stays_week == \"missing\":\n",
    "        total_nights = \"missing\"\n",
    "    else:\n",
    "        total_nights = int(stays_weekend) + int(stays_week)\n",
    "    \n",
    "    # Create a document string that includes all columns in a readable format.\n",
    "    document = f\"\"\"\n",
    "        Hotel: {safe_value(row['hotel'])}\n",
    "        is_canceled: {safe_value(row['is_canceled'])}\n",
    "        lead_time: {safe_value(row['lead_time'])}\n",
    "        arrival_date_year: {arrival_year}\n",
    "        arrival_date_month: {arrival_month}\n",
    "        arrival_date_week_number: {safe_value(row['arrival_date_week_number'])}\n",
    "        arrival_date_day_of_month: {arrival_day}\n",
    "        stays_in_weekend_nights: {stays_weekend}\n",
    "        stays_in_week_nights: {stays_week}\n",
    "        adults: {safe_value(row['adults'])}\n",
    "        children: {safe_value(row['children'])}\n",
    "        babies: {safe_value(row['babies'])}\n",
    "        meal: {safe_value(row['meal'])}\n",
    "        country: {safe_value(row['country'])}\n",
    "        market_segment: {safe_value(row['market_segment'])}\n",
    "        distribution_channel: {safe_value(row['distribution_channel'])}\n",
    "        is_repeated_guest: {safe_value(row['is_repeated_guest'])}\n",
    "        previous_cancellations: {safe_value(row['previous_cancellations'])}\n",
    "        previous_bookings_not_canceled: {safe_value(row['previous_bookings_not_canceled'])}\n",
    "        reserved_room_type: {safe_value(row['reserved_room_type'])}\n",
    "        assigned_room_type: {safe_value(row['assigned_room_type'])}\n",
    "        booking_changes: {safe_value(row['booking_changes'])}\n",
    "        deposit_type: {safe_value(row['deposit_type'])}\n",
    "        agent: {safe_value(row['agent'])}\n",
    "        company: {safe_value(row['company'])}\n",
    "        days_in_waiting_list: {safe_value(row['days_in_waiting_list'])}\n",
    "        customer_type: {safe_value(row['customer_type'])}\n",
    "        adr: {safe_value(row['adr'])}\n",
    "        required_car_parking_spaces: {safe_value(row['required_car_parking_spaces'])}\n",
    "        total_of_special_requests: {safe_value(row['total_of_special_requests'])}\n",
    "        reservation_status: {safe_value(row['reservation_status'])}\n",
    "        reservation_status_date_year: {safe_value(row['reservation_status_date_year'])}\n",
    "        reservation_status_date_month: {safe_value(row['reservation_status_date_month'])}\n",
    "        reservation_status_date_day: {safe_value(row['reservation_status_date_day'])}\n",
    "        Combined arrival_date: {arrival_date_str}\n",
    "        Combined reservation_status_date: {reservation_status_date_str}\n",
    "    \"\"\"\n",
    "    documents.append(document.strip())\n",
    "    \n",
    "    # Create the metadata dictionary including all columns.\n",
    "    metadata = {\n",
    "        'booking_id': str(idx),\n",
    "        'hotel': safe_value(row['hotel']),\n",
    "        'is_canceled': safe_value(row['is_canceled']),\n",
    "        'lead_time': safe_value(row['lead_time']),\n",
    "        'arrival_date_year': safe_value(row['arrival_date_year']),\n",
    "        'arrival_date_month': safe_value(row['arrival_date_month']),\n",
    "        'arrival_date_week_number': safe_value(row['arrival_date_week_number']),\n",
    "        'arrival_date_day_of_month': safe_value(row['arrival_date_day_of_month']),\n",
    "        'stays_in_weekend_nights': safe_value(row['stays_in_weekend_nights']),\n",
    "        'stays_in_week_nights': safe_value(row['stays_in_week_nights']),\n",
    "        'adults': safe_value(row['adults']),\n",
    "        'children': safe_value(row['children']),\n",
    "        'babies': safe_value(row['babies']),\n",
    "        'meal': safe_value(row['meal']),\n",
    "        'country': safe_value(row['country']),\n",
    "        'market_segment': safe_value(row['market_segment']),\n",
    "        'distribution_channel': safe_value(row['distribution_channel']),\n",
    "        'is_repeated_guest': safe_value(row['is_repeated_guest']),\n",
    "        'previous_cancellations': safe_value(row['previous_cancellations']),\n",
    "        'previous_bookings_not_canceled': safe_value(row['previous_bookings_not_canceled']),\n",
    "        'reserved_room_type': safe_value(row['reserved_room_type']),\n",
    "        'assigned_room_type': safe_value(row['assigned_room_type']),\n",
    "        'booking_changes': safe_value(row['booking_changes']),\n",
    "        'deposit_type': safe_value(row['deposit_type']),\n",
    "        'agent': safe_value(row['agent']),\n",
    "        'company': safe_value(row['company']),\n",
    "        'days_in_waiting_list': safe_value(row['days_in_waiting_list']),\n",
    "        'customer_type': safe_value(row['customer_type']),\n",
    "        'adr': safe_value(row['adr']),\n",
    "        'required_car_parking_spaces': safe_value(row['required_car_parking_spaces']),\n",
    "        'total_of_special_requests': safe_value(row['total_of_special_requests']),\n",
    "        'reservation_status': safe_value(row['reservation_status']),\n",
    "        'reservation_status_date_year': safe_value(row['reservation_status_date_year']),\n",
    "        'reservation_status_date_month': safe_value(row['reservation_status_date_month']),\n",
    "        'reservation_status_date_day': safe_value(row['reservation_status_date_day']),\n",
    "        'arrival_date': arrival_date_str,\n",
    "        'reservation_status_date': reservation_status_date_str,\n",
    "        'total_nights': total_nights\n",
    "    }\n",
    "    metadatas.append(metadata)\n",
    "\n",
    "# Example: Print the first document and its metadata.\n",
    "print(documents[0])\n",
    "print(metadatas[0])\n"
   ]
  },
  {
   "cell_type": "code",
   "execution_count": null,
   "metadata": {},
   "outputs": [],
   "source": [
    "# df[\"combined_text\"] = df.apply(\n",
    "#     lambda row: ' '.join([f\"{col}: {row[col]}\" for col in row.index]),\n",
    "#     axis=1\n",
    "# )\n",
    "# df[\"combined_text\"] = df.apply(\n",
    "#     lambda row: ', '.join([f\"{col}: {row[col]}\" for col in row.index]),\n",
    "#     axis=1\n",
    "# )\n",
    "\n"
   ]
  },
  {
   "cell_type": "code",
   "execution_count": null,
   "metadata": {},
   "outputs": [],
   "source": [
    "# client = cdb.Client()\n",
    "# collection = client.create_collection(name=\"hotel_collection\")"
   ]
  },
  {
   "cell_type": "code",
   "execution_count": 23,
   "metadata": {},
   "outputs": [],
   "source": [
    "# cohere_ef  = embedding_functions.CohereEmbeddingFunction(api_key=cohere_api_key,  model_name=\"large\")\n",
    "# cohere_ef(input=[\"document1\",\"document2\"])\n"
   ]
  },
  {
   "cell_type": "code",
   "execution_count": null,
   "metadata": {},
   "outputs": [],
   "source": [
    "# pipe = pipeline(\"feature-extraction\", model=\"Linq-AI-Research/Linq-Embed-Mistral\", use_auth_token=True, device=-1)"
   ]
  },
  {
   "cell_type": "code",
   "execution_count": 28,
   "metadata": {},
   "outputs": [
    {
     "name": "stdout",
     "output_type": "stream",
     "text": [
      "Deleted existing collection\n"
     ]
    }
   ],
   "source": [
    "embedding_collection = embedding_functions.GoogleGenerativeAiEmbeddingFunction(\n",
    "    api_key=gemini_api_key,\n",
    "    model_name=\"models/text-embedding-004\"  # You can change the model as needed\n",
    ")\n",
    "\n",
    "# Initialize ChromaDB client and create collection\n",
    "client = cdb.PersistentClient(path=\"./Database\")\n",
    "# If collection already exists, delete it to avoid errors\n",
    "try:\n",
    "    client.delete_collection(\"hotel_collection\")\n",
    "    print(\"Deleted existing collection\")\n",
    "except:\n",
    "    pass\n",
    "collection = client.create_collection(\n",
    "    name=\"hotel_collection\",\n",
    "    embedding_function=embedding_collection\n",
    ")"
   ]
  },
  {
   "cell_type": "code",
   "execution_count": null,
   "metadata": {},
   "outputs": [
    {
     "name": "stderr",
     "output_type": "stream",
     "text": [
      "  0%|                                                                                           | 0/120 [00:00<?, ?it/s]"
     ]
    },
    {
     "name": "stderr",
     "output_type": "stream",
     "text": [
      "  1%|▋                                                                              | 1/120 [08:14<16:21:25, 494.84s/it]"
     ]
    },
    {
     "name": "stdout",
     "output_type": "stream",
     "text": [
      "Added batch 1/120 to vector database\n"
     ]
    },
    {
     "name": "stderr",
     "output_type": "stream",
     "text": [
      "  2%|█▎                                                                             | 2/120 [16:19<16:01:28, 488.88s/it]"
     ]
    },
    {
     "name": "stdout",
     "output_type": "stream",
     "text": [
      "Added batch 2/120 to vector database\n"
     ]
    },
    {
     "name": "stderr",
     "output_type": "stream",
     "text": [
      "  2%|█▉                                                                             | 3/120 [23:50<15:19:30, 471.54s/it]"
     ]
    },
    {
     "name": "stdout",
     "output_type": "stream",
     "text": [
      "Added batch 3/120 to vector database\n"
     ]
    },
    {
     "name": "stderr",
     "output_type": "stream",
     "text": [
      "  3%|██▋                                                                            | 4/120 [31:23<14:57:25, 464.18s/it]"
     ]
    },
    {
     "name": "stdout",
     "output_type": "stream",
     "text": [
      "Added batch 4/120 to vector database\n"
     ]
    },
    {
     "name": "stderr",
     "output_type": "stream",
     "text": [
      "  4%|███▎                                                                           | 5/120 [38:53<14:39:37, 458.94s/it]"
     ]
    },
    {
     "name": "stdout",
     "output_type": "stream",
     "text": [
      "Added batch 5/120 to vector database\n"
     ]
    },
    {
     "name": "stderr",
     "output_type": "stream",
     "text": [
      "  5%|███▉                                                                           | 6/120 [46:26<14:28:43, 457.22s/it]"
     ]
    },
    {
     "name": "stdout",
     "output_type": "stream",
     "text": [
      "Added batch 6/120 to vector database\n"
     ]
    },
    {
     "name": "stderr",
     "output_type": "stream",
     "text": [
      "  6%|████▌                                                                          | 7/120 [54:02<14:19:53, 456.58s/it]"
     ]
    },
    {
     "name": "stdout",
     "output_type": "stream",
     "text": [
      "Added batch 7/120 to vector database\n"
     ]
    },
    {
     "name": "stderr",
     "output_type": "stream",
     "text": [
      "  7%|█████▏                                                                       | 8/120 [1:01:31<14:07:54, 454.24s/it]"
     ]
    },
    {
     "name": "stdout",
     "output_type": "stream",
     "text": [
      "Added batch 8/120 to vector database\n"
     ]
    },
    {
     "name": "stderr",
     "output_type": "stream",
     "text": [
      "  8%|█████▊                                                                       | 9/120 [1:08:48<13:50:23, 448.86s/it]"
     ]
    },
    {
     "name": "stdout",
     "output_type": "stream",
     "text": [
      "Added batch 9/120 to vector database\n"
     ]
    },
    {
     "name": "stderr",
     "output_type": "stream",
     "text": [
      "  8%|██████▎                                                                     | 10/120 [1:16:06<13:36:40, 445.46s/it]"
     ]
    },
    {
     "name": "stdout",
     "output_type": "stream",
     "text": [
      "Added batch 10/120 to vector database\n"
     ]
    }
   ],
   "source": [
    "batch_size = 1000\n",
    "num_batches = (len(documents) + batch_size - 1) // batch_size\n",
    "for i in tqdm(range(num_batches)):\n",
    "    # Get the current batch\n",
    "    start_idx = i * batch_size\n",
    "    end_idx = min((i + 1) * batch_size, len(documents))\n",
    "    \n",
    "    current_docs = documents[start_idx:end_idx]\n",
    "    current_metadatas = metadatas[start_idx:end_idx]\n",
    "    \n",
    "    # Add the batch to the vector database\n",
    "    collection.add(\n",
    "        documents=current_docs,\n",
    "        metadatas=current_metadatas,\n",
    "        ids=[f\"doc_{j}\" for j in range(start_idx, end_idx)]\n",
    "    )\n",
    "\n",
    "    \n",
    "    print(f\"Added batch {i+1}/{num_batches} to vector database\")\n",
    "\n",
    "print(\"All documents have been added to the vector database\")"
   ]
  },
  {
   "cell_type": "code",
   "execution_count": null,
   "metadata": {},
   "outputs": [],
   "source": []
  }
 ],
 "metadata": {
  "kernelspec": {
   "display_name": "envB",
   "language": "python",
   "name": "envb"
  },
  "language_info": {
   "codemirror_mode": {
    "name": "ipython",
    "version": 3
   },
   "file_extension": ".py",
   "mimetype": "text/x-python",
   "name": "python",
   "nbconvert_exporter": "python",
   "pygments_lexer": "ipython3",
   "version": "3.11.11"
  }
 },
 "nbformat": 4,
 "nbformat_minor": 2
}
